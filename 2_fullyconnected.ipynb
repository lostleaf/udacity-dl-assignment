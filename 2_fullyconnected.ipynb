{
 "cells": [
  {
   "cell_type": "markdown",
   "metadata": {
    "colab_type": "text",
    "id": "kR-4eNdK6lYS"
   },
   "source": [
    "Deep Learning\n",
    "=============\n",
    "\n",
    "Assignment 2\n",
    "------------\n",
    "\n",
    "Previously in `1_notmnist.ipynb`, we created a pickle with formatted datasets for training, development and testing on the [notMNIST dataset](http://yaroslavvb.blogspot.com/2011/09/notmnist-dataset.html).\n",
    "\n",
    "The goal of this assignment is to progressively train deeper and more accurate models using TensorFlow."
   ]
  },
  {
   "cell_type": "code",
   "execution_count": 1,
   "metadata": {
    "cellView": "both",
    "colab": {
     "autoexec": {
      "startup": false,
      "wait_interval": 0
     }
    },
    "colab_type": "code",
    "collapsed": true,
    "id": "JLpLa8Jt7Vu4"
   },
   "outputs": [],
   "source": [
    "# These are all the modules we'll be using later. Make sure you can import them\n",
    "# before proceeding further.\n",
    "from __future__ import print_function\n",
    "import numpy as np\n",
    "import tensorflow as tf\n",
    "from six.moves import cPickle as pickle\n",
    "from six.moves import range"
   ]
  },
  {
   "cell_type": "markdown",
   "metadata": {
    "colab_type": "text",
    "id": "1HrCK6e17WzV"
   },
   "source": [
    "First reload the data we generated in `1_notmnist.ipynb`."
   ]
  },
  {
   "cell_type": "code",
   "execution_count": 2,
   "metadata": {
    "cellView": "both",
    "colab": {
     "autoexec": {
      "startup": false,
      "wait_interval": 0
     },
     "output_extras": [
      {
       "item_id": 1
      }
     ]
    },
    "colab_type": "code",
    "collapsed": false,
    "executionInfo": {
     "elapsed": 19456,
     "status": "ok",
     "timestamp": 1449847956073,
     "user": {
      "color": "",
      "displayName": "",
      "isAnonymous": false,
      "isMe": true,
      "permissionId": "",
      "photoUrl": "",
      "sessionId": "0",
      "userId": ""
     },
     "user_tz": 480
    },
    "id": "y3-cj1bpmuxc",
    "outputId": "0ddb1607-1fc4-4ddb-de28-6c7ab7fb0c33"
   },
   "outputs": [
    {
     "name": "stdout",
     "output_type": "stream",
     "text": [
      "Training set (200000, 28, 28) (200000,)\n",
      "Validation set (10000, 28, 28) (10000,)\n",
      "Test set (10000, 28, 28) (10000,)\n"
     ]
    }
   ],
   "source": [
    "pickle_file = 'notMNIST.pickle'\n",
    "\n",
    "with open(pickle_file, 'rb') as f:\n",
    "  save = pickle.load(f)\n",
    "  train_dataset = save['train_dataset']\n",
    "  train_labels = save['train_labels']\n",
    "  valid_dataset = save['valid_dataset']\n",
    "  valid_labels = save['valid_labels']\n",
    "  test_dataset = save['test_dataset']\n",
    "  test_labels = save['test_labels']\n",
    "  print('Training set', train_dataset.shape, train_labels.shape)\n",
    "  print('Validation set', valid_dataset.shape, valid_labels.shape)\n",
    "  print('Test set', test_dataset.shape, test_labels.shape)"
   ]
  },
  {
   "cell_type": "markdown",
   "metadata": {
    "colab_type": "text",
    "id": "L7aHrm6nGDMB"
   },
   "source": [
    "Reformat into a shape that's more adapted to the models we're going to train:\n",
    "- data as a flat matrix,\n",
    "- labels as float 1-hot encodings."
   ]
  },
  {
   "cell_type": "code",
   "execution_count": 3,
   "metadata": {
    "cellView": "both",
    "colab": {
     "autoexec": {
      "startup": false,
      "wait_interval": 0
     },
     "output_extras": [
      {
       "item_id": 1
      }
     ]
    },
    "colab_type": "code",
    "collapsed": false,
    "executionInfo": {
     "elapsed": 19723,
     "status": "ok",
     "timestamp": 1449847956364,
     "user": {
      "color": "",
      "displayName": "",
      "isAnonymous": false,
      "isMe": true,
      "permissionId": "",
      "photoUrl": "",
      "sessionId": "0",
      "userId": ""
     },
     "user_tz": 480
    },
    "id": "IRSyYiIIGIzS",
    "outputId": "2ba0fc75-1487-4ace-a562-cf81cae82793"
   },
   "outputs": [
    {
     "name": "stdout",
     "output_type": "stream",
     "text": [
      "Training set (200000, 784) (200000, 10)\n",
      "Validation set (10000, 784) (10000, 10)\n",
      "Test set (10000, 784) (10000, 10)\n"
     ]
    }
   ],
   "source": [
    "image_size = 28\n",
    "num_labels = 10\n",
    "\n",
    "def reformat(dataset, labels):\n",
    "  dataset = dataset.reshape((-1, image_size * image_size)).astype(np.float32)\n",
    "  # Map 0 to [1.0, 0.0, 0.0 ...], 1 to [0.0, 1.0, 0.0 ...]\n",
    "  labels = (np.arange(num_labels) == labels[:,None]).astype(np.float32)\n",
    "  return dataset, labels\n",
    "train_dataset, train_labels = reformat(train_dataset, train_labels)\n",
    "valid_dataset, valid_labels = reformat(valid_dataset, valid_labels)\n",
    "test_dataset, test_labels = reformat(test_dataset, test_labels)\n",
    "print('Training set', train_dataset.shape, train_labels.shape)\n",
    "print('Validation set', valid_dataset.shape, valid_labels.shape)\n",
    "print('Test set', test_dataset.shape, test_labels.shape)"
   ]
  },
  {
   "cell_type": "markdown",
   "metadata": {
    "colab_type": "text",
    "id": "nCLVqyQ5vPPH"
   },
   "source": [
    "We're first going to train a multinomial logistic regression using simple gradient descent.\n",
    "\n",
    "TensorFlow works like this:\n",
    "* First you describe the computation that you want to see performed: what the inputs, the variables, and the operations look like. These get created as nodes over a computation graph. This description is all contained within the block below:\n",
    "\n",
    "      with graph.as_default():\n",
    "          ...\n",
    "\n",
    "* Then you can run the operations on this graph as many times as you want by calling `session.run()`, providing it outputs to fetch from the graph that get returned. This runtime operation is all contained in the block below:\n",
    "\n",
    "      with tf.Session(graph=graph) as session:\n",
    "          ...\n",
    "\n",
    "Let's load all the data into TensorFlow and build the computation graph corresponding to our training:"
   ]
  },
  {
   "cell_type": "code",
   "execution_count": 4,
   "metadata": {
    "cellView": "both",
    "colab": {
     "autoexec": {
      "startup": false,
      "wait_interval": 0
     }
    },
    "colab_type": "code",
    "collapsed": true,
    "id": "Nfv39qvtvOl_"
   },
   "outputs": [],
   "source": [
    "# With gradient descent training, even this much data is prohibitive.\n",
    "# Subset the training data for faster turnaround.\n",
    "train_subset = 10000\n",
    "\n",
    "graph = tf.Graph()\n",
    "with graph.as_default():\n",
    "\n",
    "  # Input data.\n",
    "  # Load the training, validation and test data into constants that are\n",
    "  # attached to the graph.\n",
    "  tf_train_dataset = tf.constant(train_dataset[:train_subset, :])\n",
    "  tf_train_labels = tf.constant(train_labels[:train_subset])\n",
    "  tf_valid_dataset = tf.constant(valid_dataset)\n",
    "  tf_test_dataset = tf.constant(test_dataset)\n",
    "  \n",
    "  # Variables.\n",
    "  # These are the parameters that we are going to be training. The weight\n",
    "  # matrix will be initialized using random valued following a (truncated)\n",
    "  # normal distribution. The biases get initialized to zero.\n",
    "  weights = tf.Variable(\n",
    "    tf.truncated_normal([image_size * image_size, num_labels]))\n",
    "  biases = tf.Variable(tf.zeros([num_labels]))\n",
    "  \n",
    "  # Training computation.\n",
    "  # We multiply the inputs with the weight matrix, and add biases. We compute\n",
    "  # the softmax and cross-entropy (it's one operation in TensorFlow, because\n",
    "  # it's very common, and it can be optimized). We take the average of this\n",
    "  # cross-entropy across all training examples: that's our loss.\n",
    "  logits = tf.matmul(tf_train_dataset, weights) + biases\n",
    "  loss = tf.reduce_mean(\n",
    "    tf.nn.softmax_cross_entropy_with_logits(logits, tf_train_labels))\n",
    "  \n",
    "  # Optimizer.\n",
    "  # We are going to find the minimum of this loss using gradient descent.\n",
    "  optimizer = tf.train.GradientDescentOptimizer(0.5).minimize(loss)\n",
    "  \n",
    "  # Predictions for the training, validation, and test data.\n",
    "  # These are not part of training, but merely here so that we can report\n",
    "  # accuracy figures as we train.\n",
    "  train_prediction = tf.nn.softmax(logits)\n",
    "  valid_prediction = tf.nn.softmax(\n",
    "    tf.matmul(tf_valid_dataset, weights) + biases)\n",
    "  test_prediction = tf.nn.softmax(tf.matmul(tf_test_dataset, weights) + biases)"
   ]
  },
  {
   "cell_type": "markdown",
   "metadata": {
    "colab_type": "text",
    "id": "KQcL4uqISHjP"
   },
   "source": [
    "Let's run this computation and iterate:"
   ]
  },
  {
   "cell_type": "code",
   "execution_count": 5,
   "metadata": {
    "cellView": "both",
    "colab": {
     "autoexec": {
      "startup": false,
      "wait_interval": 0
     },
     "output_extras": [
      {
       "item_id": 9
      }
     ]
    },
    "colab_type": "code",
    "collapsed": false,
    "executionInfo": {
     "elapsed": 57454,
     "status": "ok",
     "timestamp": 1449847994134,
     "user": {
      "color": "",
      "displayName": "",
      "isAnonymous": false,
      "isMe": true,
      "permissionId": "",
      "photoUrl": "",
      "sessionId": "0",
      "userId": ""
     },
     "user_tz": 480
    },
    "id": "z2cjdenH869W",
    "outputId": "4c037ba1-b526-4d8e-e632-91e2a0333267"
   },
   "outputs": [
    {
     "name": "stdout",
     "output_type": "stream",
     "text": [
      "Initialized\n",
      "Loss at step 0: 17.316860\n",
      "Training accuracy: 6.8%\n",
      "Validation accuracy: 9.3%\n",
      "Loss at step 100: 2.320034\n",
      "Training accuracy: 71.1%\n",
      "Validation accuracy: 70.5%\n",
      "Loss at step 200: 1.864014\n",
      "Training accuracy: 74.3%\n",
      "Validation accuracy: 73.1%\n",
      "Loss at step 300: 1.619954\n",
      "Training accuracy: 75.3%\n",
      "Validation accuracy: 73.8%\n",
      "Loss at step 400: 1.458816\n",
      "Training accuracy: 76.2%\n",
      "Validation accuracy: 74.3%\n",
      "Loss at step 500: 1.340656\n",
      "Training accuracy: 76.8%\n",
      "Validation accuracy: 74.3%\n",
      "Loss at step 600: 1.248235\n",
      "Training accuracy: 77.5%\n",
      "Validation accuracy: 74.6%\n",
      "Loss at step 700: 1.172727\n",
      "Training accuracy: 78.0%\n",
      "Validation accuracy: 74.7%\n",
      "Loss at step 800: 1.109341\n",
      "Training accuracy: 78.4%\n",
      "Validation accuracy: 74.8%\n",
      "Test accuracy: 83.0%\n"
     ]
    }
   ],
   "source": [
    "num_steps = 801\n",
    "\n",
    "def accuracy(predictions, labels):\n",
    "  return (100.0 * np.sum(np.argmax(predictions, 1) == np.argmax(labels, 1))\n",
    "          / predictions.shape[0])\n",
    "\n",
    "with tf.Session(graph=graph) as session:\n",
    "  # This is a one-time operation which ensures the parameters get initialized as\n",
    "  # we described in the graph: random weights for the matrix, zeros for the\n",
    "  # biases. \n",
    "  tf.initialize_all_variables().run()\n",
    "  print('Initialized')\n",
    "  for step in range(num_steps):\n",
    "    # Run the computations. We tell .run() that we want to run the optimizer,\n",
    "    # and get the loss value and the training predictions returned as numpy\n",
    "    # arrays.\n",
    "    _, l, predictions = session.run([optimizer, loss, train_prediction])\n",
    "    if (step % 100 == 0):\n",
    "      print('Loss at step %d: %f' % (step, l))\n",
    "      print('Training accuracy: %.1f%%' % accuracy(\n",
    "        predictions, train_labels[:train_subset, :]))\n",
    "      # Calling .eval() on valid_prediction is basically like calling run(), but\n",
    "      # just to get that one numpy array. Note that it recomputes all its graph\n",
    "      # dependencies.\n",
    "      print('Validation accuracy: %.1f%%' % accuracy(\n",
    "        valid_prediction.eval(), valid_labels))\n",
    "  print('Test accuracy: %.1f%%' % accuracy(test_prediction.eval(), test_labels))"
   ]
  },
  {
   "cell_type": "markdown",
   "metadata": {
    "colab_type": "text",
    "id": "x68f-hxRGm3H"
   },
   "source": [
    "Let's now switch to stochastic gradient descent training instead, which is much faster.\n",
    "\n",
    "The graph will be similar, except that instead of holding all the training data into a constant node, we create a `Placeholder` node which will be fed actual data at every call of `session.run()`."
   ]
  },
  {
   "cell_type": "code",
   "execution_count": 6,
   "metadata": {
    "cellView": "both",
    "colab": {
     "autoexec": {
      "startup": false,
      "wait_interval": 0
     }
    },
    "colab_type": "code",
    "collapsed": true,
    "id": "qhPMzWYRGrzM"
   },
   "outputs": [],
   "source": [
    "batch_size = 128\n",
    "\n",
    "graph = tf.Graph()\n",
    "with graph.as_default():\n",
    "\n",
    "  # Input data. For the training data, we use a placeholder that will be fed\n",
    "  # at run time with a training minibatch.\n",
    "  tf_train_dataset = tf.placeholder(tf.float32,\n",
    "                                    shape=(batch_size, image_size * image_size))\n",
    "  tf_train_labels = tf.placeholder(tf.float32, shape=(batch_size, num_labels))\n",
    "  tf_valid_dataset = tf.constant(valid_dataset)\n",
    "  tf_test_dataset = tf.constant(test_dataset)\n",
    "  \n",
    "  # Variables.\n",
    "  weights = tf.Variable(\n",
    "    tf.truncated_normal([image_size * image_size, num_labels]))\n",
    "  biases = tf.Variable(tf.zeros([num_labels]))\n",
    "  \n",
    "  # Training computation.\n",
    "  logits = tf.matmul(tf_train_dataset, weights) + biases\n",
    "  loss = tf.reduce_mean(\n",
    "    tf.nn.softmax_cross_entropy_with_logits(logits, tf_train_labels))\n",
    "  \n",
    "  # Optimizer.\n",
    "  optimizer = tf.train.GradientDescentOptimizer(0.5).minimize(loss)\n",
    "  \n",
    "  # Predictions for the training, validation, and test data.\n",
    "  train_prediction = tf.nn.softmax(logits)\n",
    "  valid_prediction = tf.nn.softmax(\n",
    "    tf.matmul(tf_valid_dataset, weights) + biases)\n",
    "  test_prediction = tf.nn.softmax(tf.matmul(tf_test_dataset, weights) + biases)"
   ]
  },
  {
   "cell_type": "markdown",
   "metadata": {
    "colab_type": "text",
    "id": "XmVZESmtG4JH"
   },
   "source": [
    "Let's run it:"
   ]
  },
  {
   "cell_type": "code",
   "execution_count": 7,
   "metadata": {
    "cellView": "both",
    "colab": {
     "autoexec": {
      "startup": false,
      "wait_interval": 0
     },
     "output_extras": [
      {
       "item_id": 6
      }
     ]
    },
    "colab_type": "code",
    "collapsed": false,
    "executionInfo": {
     "elapsed": 66292,
     "status": "ok",
     "timestamp": 1449848003013,
     "user": {
      "color": "",
      "displayName": "",
      "isAnonymous": false,
      "isMe": true,
      "permissionId": "",
      "photoUrl": "",
      "sessionId": "0",
      "userId": ""
     },
     "user_tz": 480
    },
    "id": "FoF91pknG_YW",
    "outputId": "d255c80e-954d-4183-ca1c-c7333ce91d0a"
   },
   "outputs": [
    {
     "name": "stdout",
     "output_type": "stream",
     "text": [
      "Initialized\n",
      "Minibatch loss at step 0: 17.178885\n",
      "Minibatch accuracy: 9.4%\n",
      "Validation accuracy: 8.8%\n",
      "Minibatch loss at step 500: 2.142731\n",
      "Minibatch accuracy: 71.1%\n",
      "Validation accuracy: 75.9%\n",
      "Minibatch loss at step 1000: 0.747642\n",
      "Minibatch accuracy: 82.8%\n",
      "Validation accuracy: 76.1%\n",
      "Minibatch loss at step 1500: 0.955326\n",
      "Minibatch accuracy: 77.3%\n",
      "Validation accuracy: 77.0%\n",
      "Minibatch loss at step 2000: 1.041914\n",
      "Minibatch accuracy: 76.6%\n",
      "Validation accuracy: 77.0%\n",
      "Minibatch loss at step 2500: 1.069952\n",
      "Minibatch accuracy: 75.0%\n",
      "Validation accuracy: 77.6%\n",
      "Minibatch loss at step 3000: 0.820180\n",
      "Minibatch accuracy: 81.2%\n",
      "Validation accuracy: 78.2%\n",
      "Test accuracy: 86.7%\n"
     ]
    }
   ],
   "source": [
    "num_steps = 3001\n",
    "\n",
    "with tf.Session(graph=graph) as session:\n",
    "  tf.initialize_all_variables().run()\n",
    "  print(\"Initialized\")\n",
    "  for step in range(num_steps):\n",
    "    # Pick an offset within the training data, which has been randomized.\n",
    "    # Note: we could use better randomization across epochs.\n",
    "    offset = (step * batch_size) % (train_labels.shape[0] - batch_size)\n",
    "    # Generate a minibatch.\n",
    "    batch_data = train_dataset[offset:(offset + batch_size), :]\n",
    "    batch_labels = train_labels[offset:(offset + batch_size), :]\n",
    "    # Prepare a dictionary telling the session where to feed the minibatch.\n",
    "    # The key of the dictionary is the placeholder node of the graph to be fed,\n",
    "    # and the value is the numpy array to feed to it.\n",
    "    feed_dict = {tf_train_dataset : batch_data, tf_train_labels : batch_labels}\n",
    "    _, l, predictions = session.run(\n",
    "      [optimizer, loss, train_prediction], feed_dict=feed_dict)\n",
    "    if (step % 500 == 0):\n",
    "      print(\"Minibatch loss at step %d: %f\" % (step, l))\n",
    "      print(\"Minibatch accuracy: %.1f%%\" % accuracy(predictions, batch_labels))\n",
    "      print(\"Validation accuracy: %.1f%%\" % accuracy(\n",
    "        valid_prediction.eval(), valid_labels))\n",
    "  print(\"Test accuracy: %.1f%%\" % accuracy(test_prediction.eval(), test_labels))"
   ]
  },
  {
   "cell_type": "markdown",
   "metadata": {
    "colab_type": "text",
    "id": "7omWxtvLLxik"
   },
   "source": [
    "---\n",
    "Problem\n",
    "-------\n",
    "\n",
    "Turn the logistic regression example with SGD into a 1-hidden layer neural network with rectified linear units [nn.relu()](https://www.tensorflow.org/versions/r0.7/api_docs/python/nn.html#relu) and 1024 hidden nodes. This model should improve your validation / test accuracy.\n",
    "\n",
    "---"
   ]
  },
  {
   "cell_type": "code",
   "execution_count": 8,
   "metadata": {
    "collapsed": false
   },
   "outputs": [
    {
     "name": "stdout",
     "output_type": "stream",
     "text": [
      "step 0\n",
      "minibatch loss 414.924866\n",
      "minibatch accuracy 0.109375\n",
      "validation accuracy 0.266300\n",
      "step 2000\n",
      "minibatch loss 10.113770\n",
      "minibatch accuracy 0.812500\n",
      "validation accuracy 0.812000\n",
      "step 4000\n",
      "minibatch loss 7.987518\n",
      "minibatch accuracy 0.804688\n",
      "validation accuracy 0.830600\n",
      "step 6000\n",
      "minibatch loss 8.075667\n",
      "minibatch accuracy 0.789062\n",
      "validation accuracy 0.812800\n",
      "step 8000\n",
      "minibatch loss 3.652697\n",
      "minibatch accuracy 0.851562\n",
      "validation accuracy 0.843600\n",
      "step 10000\n",
      "minibatch loss 2.564917\n",
      "minibatch accuracy 0.882812\n",
      "validation accuracy 0.849300\n",
      "step 12000\n",
      "minibatch loss 0.875300\n",
      "minibatch accuracy 0.929688\n",
      "validation accuracy 0.841400\n",
      "step 14000\n",
      "minibatch loss 4.826624\n",
      "minibatch accuracy 0.828125\n",
      "validation accuracy 0.844800\n",
      "step 16000\n",
      "minibatch loss 1.405133\n",
      "minibatch accuracy 0.914062\n",
      "validation accuracy 0.850300\n",
      "step 18000\n",
      "minibatch loss 0.727525\n",
      "minibatch accuracy 0.929688\n",
      "validation accuracy 0.846400\n",
      "step 20000\n",
      "minibatch loss 3.688664\n",
      "minibatch accuracy 0.875000\n",
      "validation accuracy 0.849200\n",
      "step 22000\n",
      "minibatch loss 1.232421\n",
      "minibatch accuracy 0.914062\n",
      "validation accuracy 0.824100\n",
      "step 24000\n",
      "minibatch loss 1.345777\n",
      "minibatch accuracy 0.890625\n",
      "validation accuracy 0.857800\n",
      "step 26000\n",
      "minibatch loss 1.481993\n",
      "minibatch accuracy 0.875000\n",
      "validation accuracy 0.857500\n",
      "step 28000\n",
      "minibatch loss 1.060838\n",
      "minibatch accuracy 0.921875\n",
      "validation accuracy 0.855900\n",
      "step 30000\n",
      "minibatch loss 1.271754\n",
      "minibatch accuracy 0.867188\n",
      "validation accuracy 0.851200\n",
      "0.9167\n"
     ]
    }
   ],
   "source": [
    "batch_size = 128\n",
    "num_steps = 30000 + 1\n",
    "\n",
    "#input data and labels\n",
    "x = tf.placeholder(tf.float32, shape=(None, image_size * image_size))\n",
    "y_true = tf.placeholder(tf.float32, shape=(None, num_labels))\n",
    "\n",
    "#hidden layer\n",
    "W_1 = tf.Variable(tf.truncated_normal([image_size * image_size, 1024]))\n",
    "b_1 = tf.Variable(tf.zeros([1024]))\n",
    "h_1 = tf.nn.relu(tf.matmul(x, W_1) + b_1)\n",
    "\n",
    "#output layer\n",
    "W_2 = tf.Variable(tf.truncated_normal([1024, num_labels]))\n",
    "b_2 = tf.Variable(tf.zeros([num_labels]))\n",
    "logits = tf.matmul(h_1, W_2) + b_2\n",
    "prob = tf.nn.softmax(logits)\n",
    "\n",
    "#loss function\n",
    "loss = tf.reduce_mean(tf.nn.softmax_cross_entropy_with_logits(logits, y_true))\n",
    "\n",
    "#optimizer.\n",
    "optimizer = tf.train.GradientDescentOptimizer(0.1).minimize(loss)\n",
    "\n",
    "#accuracy\n",
    "correct_prediction = tf.equal(tf.argmax(prob, 1), tf.argmax(y_true, 1))\n",
    "accuracy = tf.reduce_mean(tf.cast(correct_prediction, tf.float32))\n",
    "\n",
    "with tf.Session() as sess:\n",
    "    tf.initialize_all_variables().run()\n",
    "    \n",
    "    for step in range(num_steps):\n",
    "        offset = (step * batch_size) % (train_labels.shape[0] - batch_size)\n",
    "        batch_data = train_dataset[offset:(offset + batch_size), :]\n",
    "        batch_labels = train_labels[offset:(offset + batch_size), :]\n",
    "        _, l, a = sess.run([optimizer, loss, accuracy], feed_dict={x : batch_data, y_true : batch_labels})\n",
    "        if step % 2000 == 0:\n",
    "            print(\"step %d\" % step)\n",
    "            print(\"minibatch loss %f\" % l)\n",
    "            print(\"minibatch accuracy %f\" % a)\n",
    "            a = sess.run(accuracy, feed_dict={x: valid_dataset, y_true: valid_labels})\n",
    "            print(\"validation accuracy %f\" % a)\n",
    "        \n",
    "    print(sess.run(accuracy, feed_dict={x: test_dataset, y_true: test_labels}))"
   ]
  },
  {
   "cell_type": "code",
   "execution_count": 9,
   "metadata": {
    "collapsed": false
   },
   "outputs": [
    {
     "name": "stdout",
     "output_type": "stream",
     "text": [
      "(200000, 784)\n",
      "(10000, 784)\n",
      "(10000, 784)\n",
      "(187238, 10)\n",
      "(8926, 10)\n",
      "(8590, 10)\n"
     ]
    }
   ],
   "source": [
    "print(train_dataset.shape)\n",
    "print(valid_dataset.shape)\n",
    "print(test_dataset.shape)\n",
    "\n",
    "train_dataset.flags.writeable = False\n",
    "valid_dataset.flags.writeable = False\n",
    "test_dataset.flags.writeable = False\n",
    "\n",
    "from itertools import izip\n",
    "\n",
    "data_label = dict()\n",
    "\n",
    "def add_dataset(dataset, labels):\n",
    "    for data, label in izip(dataset, labels):\n",
    "        if data.data not in data_label:\n",
    "            data_label[data.data] = set()\n",
    "        data_label[data.data].add(label)\n",
    "        \n",
    "add_dataset(train_dataset, save[\"train_labels\"])\n",
    "add_dataset(valid_dataset, save[\"valid_labels\"])\n",
    "add_dataset(test_dataset, save[\"test_labels\"])\n",
    "\n",
    "ambiguous_data = set(data for data, label_set in data_label.iteritems() if len(label_set) > 1)\n",
    "\n",
    "occurred = set()\n",
    "# remove ambiguous and deduplicate\n",
    "def cleaned(dataset, labels):\n",
    "    mask = []\n",
    "    for data in dataset:\n",
    "        mask.append(data.data not in ambiguous_data and data.data not in occurred)\n",
    "        occurred.add(data.data)\n",
    "    mask = np.array(mask)\n",
    "    return dataset[mask, :], labels[mask, :]\n",
    "\n",
    "train_dataset_cleaned, train_labels_cleaned = cleaned(train_dataset, train_labels)\n",
    "valid_dataset_cleaned, valid_labels_cleaned = cleaned(valid_dataset, valid_labels)\n",
    "test_dataset_cleaned, test_labels_cleaned = cleaned(test_dataset, test_labels)\n",
    "\n",
    "print(train_labels_cleaned.shape)\n",
    "print(valid_labels_cleaned.shape)\n",
    "print(test_labels_cleaned.shape)"
   ]
  },
  {
   "cell_type": "code",
   "execution_count": 12,
   "metadata": {
    "collapsed": false
   },
   "outputs": [
    {
     "name": "stdout",
     "output_type": "stream",
     "text": [
      "step 0\n",
      "minibatch loss 435.737854\n",
      "minibatch accuracy 0.062500\n",
      "validation accuracy 0.239301\n",
      "step 2000\n",
      "minibatch loss 8.672884\n",
      "minibatch accuracy 0.835938\n",
      "validation accuracy 0.820636\n",
      "step 4000\n",
      "minibatch loss 2.985936\n",
      "minibatch accuracy 0.890625\n",
      "validation accuracy 0.832512\n",
      "step 6000\n",
      "minibatch loss 2.847493\n",
      "minibatch accuracy 0.875000\n",
      "validation accuracy 0.833744\n",
      "step 8000\n",
      "minibatch loss 3.322642\n",
      "minibatch accuracy 0.835938\n",
      "validation accuracy 0.826462\n",
      "step 10000\n",
      "minibatch loss 3.602205\n",
      "minibatch accuracy 0.851562\n",
      "validation accuracy 0.832400\n",
      "step 12000\n",
      "minibatch loss 2.639723\n",
      "minibatch accuracy 0.859375\n",
      "validation accuracy 0.834528\n",
      "step 14000\n",
      "minibatch loss 1.465587\n",
      "minibatch accuracy 0.914062\n",
      "validation accuracy 0.838337\n",
      "step 16000\n",
      "minibatch loss 1.776598\n",
      "minibatch accuracy 0.851562\n",
      "validation accuracy 0.831055\n",
      "step 18000\n",
      "minibatch loss 1.596829\n",
      "minibatch accuracy 0.875000\n",
      "validation accuracy 0.840914\n",
      "step 20000\n",
      "minibatch loss 1.546901\n",
      "minibatch accuracy 0.914062\n",
      "validation accuracy 0.843827\n",
      "step 22000\n",
      "minibatch loss 1.856733\n",
      "minibatch accuracy 0.859375\n",
      "validation accuracy 0.842147\n",
      "step 24000\n",
      "minibatch loss 1.938553\n",
      "minibatch accuracy 0.914062\n",
      "validation accuracy 0.840690\n",
      "step 26000\n",
      "minibatch loss 1.321132\n",
      "minibatch accuracy 0.875000\n",
      "validation accuracy 0.848196\n",
      "step 28000\n",
      "minibatch loss 1.226354\n",
      "minibatch accuracy 0.890625\n",
      "validation accuracy 0.837441\n",
      "step 30000\n",
      "minibatch loss 1.699663\n",
      "minibatch accuracy 0.875000\n",
      "validation accuracy 0.844387\n",
      "accuracy on test set: 0.902677\n",
      "accuracy on whole train set 0.895789\n"
     ]
    }
   ],
   "source": [
    "with tf.Session() as sess:\n",
    "    tf.initialize_all_variables().run()\n",
    "    \n",
    "    for step in range(num_steps):\n",
    "        offset = (step * batch_size) % (train_labels_cleaned.shape[0] - batch_size)\n",
    "        batch_data = train_dataset_cleaned[offset:(offset + batch_size), :]\n",
    "        batch_labels = train_labels_cleaned[offset:(offset + batch_size), :]\n",
    "        _, l, a = sess.run([optimizer, loss, accuracy], feed_dict={x : batch_data, y_true : batch_labels})\n",
    "        if step % 2000 == 0:\n",
    "            print(\"step %d\" % step)\n",
    "            print(\"minibatch loss %f\" % l)\n",
    "            print(\"minibatch accuracy %f\" % a)\n",
    "            a = sess.run(accuracy, feed_dict={x: valid_dataset_cleaned, y_true: valid_labels_cleaned})\n",
    "            print(\"validation accuracy %f\" % a)\n",
    "        \n",
    "    print(\"accuracy on test set:\", \n",
    "          sess.run(accuracy, feed_dict={x: test_dataset_cleaned, y_true: test_labels_cleaned}))    \n",
    "    print(\"accuracy on whole train set\", \n",
    "          sess.run(accuracy, feed_dict={x: train_dataset_cleaned, y_true: train_labels_cleaned}))"
   ]
  }
 ],
 "metadata": {
  "colab": {
   "default_view": {},
   "name": "2_fullyconnected.ipynb",
   "provenance": [],
   "version": "0.3.2",
   "views": {}
  },
  "kernelspec": {
   "display_name": "Python 2",
   "language": "python",
   "name": "python2"
  },
  "language_info": {
   "codemirror_mode": {
    "name": "ipython",
    "version": 2
   },
   "file_extension": ".py",
   "mimetype": "text/x-python",
   "name": "python",
   "nbconvert_exporter": "python",
   "pygments_lexer": "ipython2",
   "version": "2.7.6"
  }
 },
 "nbformat": 4,
 "nbformat_minor": 0
}
